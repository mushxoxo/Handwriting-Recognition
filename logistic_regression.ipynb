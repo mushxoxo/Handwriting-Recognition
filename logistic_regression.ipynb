{
 "cells": [
  {
   "cell_type": "code",
   "execution_count": 16,
   "metadata": {},
   "outputs": [],
   "source": [
    "import numpy as np\n",
    "import pandas as pd\n",
    "import string\n",
    "from matplotlib import pyplot as plt\n",
    "from PIL import Image\n",
    "import os"
   ]
  },
  {
   "cell_type": "code",
   "execution_count": 22,
   "metadata": {},
   "outputs": [
    {
     "name": "stdout",
     "output_type": "stream",
     "text": [
      "                   image label\n",
      "0     Img/img001-001.png     0\n",
      "1     Img/img001-002.png     0\n",
      "2     Img/img001-003.png     0\n",
      "3     Img/img001-004.png     0\n",
      "4     Img/img001-005.png     0\n",
      "...                  ...   ...\n",
      "3405  Img/img062-051.png     z\n",
      "3406  Img/img062-052.png     z\n",
      "3407  Img/img062-053.png     z\n",
      "3408  Img/img062-054.png     z\n",
      "3409  Img/img062-055.png     z\n",
      "\n",
      "[3410 rows x 2 columns]\n"
     ]
    }
   ],
   "source": [
    "#Reading CSV File\n",
    "\n",
    "\n",
    "img_height = 30\n",
    "img_width= 40\n",
    "\n",
    "\n",
    "csv_path = \"C:/Users/Bhanu Agrawal/Documents/GitHub/Handwriting-Recognition/English Handwritten Characters - Dhruvil Dave/english.csv\"\n",
    "img_folder = \"C:/Users/Bhanu Agrawal/Documents/GitHub/Handwriting-Recognition/English Handwritten Characters - Dhruvil Dave/\"\n",
    "\n",
    "df = pd.read_csv(csv_path)\n",
    "\n",
    "print(df)\n"
   ]
  },
  {
   "cell_type": "code",
   "execution_count": null,
   "metadata": {},
   "outputs": [
    {
     "name": "stdout",
     "output_type": "stream",
     "text": [
      "                   image label\n",
      "0     Img/img001-054.png     0\n",
      "1     Img/img009-034.png     8\n",
      "2     Img/img052-011.png     p\n",
      "3     Img/img014-017.png     D\n",
      "4     Img/img032-033.png     V\n",
      "...                  ...   ...\n",
      "2723  Img/img006-055.png     5\n",
      "2724  Img/img024-012.png     N\n",
      "2725  Img/img057-046.png     u\n",
      "2726  Img/img008-048.png     7\n",
      "2727  Img/img055-032.png     s\n",
      "\n",
      "[2728 rows x 2 columns]\n",
      "                   image label\n",
      "2728  Img/img056-006.png     t\n",
      "2729  Img/img032-009.png     V\n",
      "2730  Img/img047-011.png     k\n",
      "2731  Img/img042-031.png     f\n",
      "2732  Img/img005-038.png     4\n",
      "...                  ...   ...\n",
      "3405  Img/img045-005.png     i\n",
      "3406  Img/img041-037.png     e\n",
      "3407  Img/img007-043.png     6\n",
      "3408  Img/img032-032.png     V\n",
      "3409  Img/img020-032.png     J\n",
      "\n",
      "[682 rows x 2 columns]\n"
     ]
    }
   ],
   "source": [
    "df = df.sample(frac=1, random_state=42).reset_index(drop=True)  #Shuffle CSV dataframe\n",
    "\n",
    "split = int(len(df)*0.8)\n",
    "\n",
    "train_df = df[:split]\n",
    "test_df = df[split:]\n",
    "\n",
    "print(train_df)\n",
    "print(test_df)"
   ]
  },
  {
   "cell_type": "code",
   "execution_count": 19,
   "metadata": {},
   "outputs": [],
   "source": [
    "def load_images(dataframes):\n",
    "\n",
    "    X_data = []\n",
    "    Y_data = []\n",
    "\n",
    "\n",
    "    for _,row in dataframes.iterrows():\n",
    "        label = row[\"label\"]\n",
    "        img_path = os.path.join(img_folder, row[\"image\"])\n",
    "\n",
    "        img =  Image.open(img_path).convert(\"L\")  #Convert to grayscale\n",
    "\n",
    "        img = img.resize((img_width, img_height), Image.LANCZOS)\n",
    "\n",
    "        img_array = np.array(img)/255\n",
    "\n",
    "        X_data.append(img_array)\n",
    "        Y_data.append(label)\n",
    "\n",
    "    return np.array(X_data), np.array(Y_data).reshape(1,-1)\n"
   ]
  },
  {
   "cell_type": "code",
   "execution_count": 28,
   "metadata": {},
   "outputs": [],
   "source": [
    "train_set_x_orig, train_set_y = load_images(train_df)\n",
    "test_set_x_orig, test_set_y = load_images(test_df)\n",
    "\n",
    "classes = np.unique(df[\"label\"])"
   ]
  },
  {
   "cell_type": "code",
   "execution_count": 35,
   "metadata": {},
   "outputs": [
    {
     "name": "stdout",
     "output_type": "stream",
     "text": [
      "Number of training examples: m_train = 2728\n",
      "Number of testing examples: m_test = 682\n",
      "Height of each image: num_px = 30\n",
      "Width of each image: num_py = 40\n",
      "Each image is of size: (30, 40, 1)\n",
      "train_set_x shape: (2728, 30, 40)\n",
      "train_set_y shape: (1, 2728)\n",
      "test_set_x shape: (682, 30, 40)\n",
      "test_set_y shape: (1, 682)\n"
     ]
    }
   ],
   "source": [
    "m_train = train_set_x_orig.shape[0]\n",
    "m_test = test_set_x_orig.shape[0]\n",
    "num_px = train_set_x_orig.shape[1]\n",
    "num_py = train_set_x_orig.shape[2]\n",
    "\n",
    "print (\"Number of training examples: m_train = \" + str(m_train))\n",
    "print (\"Number of testing examples: m_test = \" + str(m_test))\n",
    "print (\"Height of each image: num_px = \" + str(num_px))\n",
    "print (\"Width of each image: num_py = \" + str(num_py))\n",
    "print (\"Each image is of size: (\" + str(num_px) + \", \" + str(num_py) + \", 1)\")\n",
    "print (\"train_set_x shape: \" + str(train_set_x_orig.shape))\n",
    "print (\"train_set_y shape: \" + str(train_set_y.shape))\n",
    "print (\"test_set_x shape: \" + str(test_set_x_orig.shape))\n",
    "print (\"test_set_y shape: \" + str(test_set_y.shape))"
   ]
  },
  {
   "cell_type": "code",
   "execution_count": 50,
   "metadata": {},
   "outputs": [
    {
     "name": "stdout",
     "output_type": "stream",
     "text": [
      "y = ['D']\n"
     ]
    },
    {
     "data": {
      "image/png": "[encoded data removed]",
      "text/plain": [
       "<Figure size 640x480 with 1 Axes>"
      ]
     },
     "metadata": {},
     "output_type": "display_data"
    }
   ],
   "source": [
    "# Example of a picture\n",
    "index = 2048            #0-208\n",
    "plt.imshow(train_set_x_orig[index], cmap=\"gray\")\n",
    "print (\"y = \" + str(train_set_y[:, index]))"
   ]
  }
 ],
 "metadata": {
  "kernelspec": {
   "display_name": "Python 3",
   "language": "python",
   "name": "python3"
  },
  "language_info": {
   "codemirror_mode": {
    "name": "ipython",
    "version": 3
   },
   "file_extension": ".py",
   "mimetype": "text/x-python",
   "name": "python",
   "nbconvert_exporter": "python",
   "pygments_lexer": "ipython3",
   "version": "3.10.6"
  }
 },
 "nbformat": 4,
 "nbformat_minor": 2
}
