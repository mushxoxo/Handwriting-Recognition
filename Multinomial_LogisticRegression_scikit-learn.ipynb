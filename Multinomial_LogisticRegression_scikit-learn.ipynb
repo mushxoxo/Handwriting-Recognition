{
 "cells": [
  {
   "cell_type": "code",
   "execution_count": 2,
   "metadata": {},
   "outputs": [],
   "source": [
    "import numpy as np\n",
    "import pandas as pd\n",
    "import string\n",
    "from matplotlib import pyplot as plt\n",
    "from PIL import Image\n",
    "import os\n",
    "from sklearn.linear_model import LogisticRegression\n",
    "from sklearn.metrics import accuracy_score\n",
    "import copy"
   ]
  },
  {
   "cell_type": "code",
   "execution_count": 3,
   "metadata": {},
   "outputs": [
    {
     "name": "stdout",
     "output_type": "stream",
     "text": [
      "                   image label\n",
      "0     Img/img001-001.png     0\n",
      "1     Img/img001-002.png     0\n",
      "2     Img/img001-003.png     0\n",
      "3     Img/img001-004.png     0\n",
      "4     Img/img001-005.png     0\n",
      "...                  ...   ...\n",
      "3405  Img/img062-051.png     z\n",
      "3406  Img/img062-052.png     z\n",
      "3407  Img/img062-053.png     z\n",
      "3408  Img/img062-054.png     z\n",
      "3409  Img/img062-055.png     z\n",
      "\n",
      "[3410 rows x 2 columns]\n"
     ]
    }
   ],
   "source": [
    "#Reading CSV File\n",
    "\n",
    "\n",
    "img_height = 30\n",
    "img_width= 40\n",
    "\n",
    "\n",
    "csv_path = \"C:/Users/Bhanu Agrawal/Documents/GitHub/Handwriting-Recognition/English Handwritten Characters - Dhruvil Dave/english.csv\"\n",
    "img_folder = \"C:/Users/Bhanu Agrawal/Documents/GitHub/Handwriting-Recognition/English Handwritten Characters - Dhruvil Dave/\"\n",
    "\n",
    "df = pd.read_csv(csv_path)\n",
    "\n",
    "print(df)\n"
   ]
  },
  {
   "cell_type": "code",
   "execution_count": 4,
   "metadata": {},
   "outputs": [
    {
     "name": "stdout",
     "output_type": "stream",
     "text": [
      "                   image label\n",
      "0     Img/img058-001.png     v\n",
      "1     Img/img033-030.png     W\n",
      "2     Img/img004-006.png     3\n",
      "3     Img/img013-021.png     C\n",
      "4     Img/img051-054.png     o\n",
      "...                  ...   ...\n",
      "2723  Img/img039-016.png     c\n",
      "2724  Img/img003-024.png     2\n",
      "2725  Img/img021-041.png     K\n",
      "2726  Img/img017-054.png     G\n",
      "2727  Img/img017-049.png     G\n",
      "\n",
      "[2728 rows x 2 columns]\n",
      "                   image label\n",
      "2728  Img/img015-054.png     E\n",
      "2729  Img/img028-047.png     R\n",
      "2730  Img/img023-005.png     M\n",
      "2731  Img/img010-010.png     9\n",
      "2732  Img/img062-016.png     z\n",
      "...                  ...   ...\n",
      "3405  Img/img020-051.png     J\n",
      "3406  Img/img021-031.png     K\n",
      "3407  Img/img024-030.png     N\n",
      "3408  Img/img016-036.png     F\n",
      "3409  Img/img058-040.png     v\n",
      "\n",
      "[682 rows x 2 columns]\n"
     ]
    }
   ],
   "source": [
    "df = df.sample(frac=1, random_state=42).reset_index(drop=True)  #Shuffle CSV dataframe\n",
    "\n",
    "split = int(len(df)*0.8)\n",
    "\n",
    "train_df = df[:split]\n",
    "test_df = df[split:]\n",
    "\n",
    "print(train_df)\n",
    "print(test_df)"
   ]
  },
  {
   "cell_type": "code",
   "execution_count": 5,
   "metadata": {},
   "outputs": [],
   "source": [
    "def load_images(dataframes):\n",
    "\n",
    "    X_data = []\n",
    "    Y_data = []\n",
    "\n",
    "\n",
    "    for _,row in dataframes.iterrows():\n",
    "        label = row[\"label\"]\n",
    "        img_path = os.path.join(img_folder, row[\"image\"])\n",
    "\n",
    "        img =  Image.open(img_path).convert(\"L\")  #Convert to grayscale\n",
    "\n",
    "        img = img.resize((img_width, img_height), Image.LANCZOS)\n",
    "\n",
    "        img_array = np.array(img)\n",
    "\n",
    "        X_data.append(img_array)\n",
    "        Y_data.append(label)\n",
    "\n",
    "    return np.array(X_data), np.array(Y_data).reshape(1,-1)\n"
   ]
  },
  {
   "cell_type": "code",
   "execution_count": 6,
   "metadata": {},
   "outputs": [],
   "source": [
    "train_set_x_orig, train_set_y = load_images(train_df)\n",
    "test_set_x_orig, test_set_y = load_images(test_df)\n",
    "\n",
    "classes = np.unique(df[\"label\"])"
   ]
  },
  {
   "cell_type": "code",
   "execution_count": 7,
   "metadata": {},
   "outputs": [
    {
     "name": "stdout",
     "output_type": "stream",
     "text": [
      "Number of training examples: m_train = 2728\n",
      "Number of testing examples: m_test = 682\n",
      "Height of each image: num_px = 30\n",
      "Width of each image: num_py = 40\n",
      "Each image is of size: (30, 40, 1)\n",
      "train_set_x shape: (2728, 30, 40)\n",
      "train_set_y shape: (1, 2728)\n",
      "test_set_x shape: (682, 30, 40)\n",
      "test_set_y shape: (1, 682)\n"
     ]
    }
   ],
   "source": [
    "m_train = train_set_x_orig.shape[0]\n",
    "m_test = test_set_x_orig.shape[0]\n",
    "num_px = train_set_x_orig.shape[1]\n",
    "num_py = train_set_x_orig.shape[2]\n",
    "\n",
    "print (\"Number of training examples: m_train = \" + str(m_train))\n",
    "print (\"Number of testing examples: m_test = \" + str(m_test))\n",
    "print (\"Height of each image: num_px = \" + str(num_px))\n",
    "print (\"Width of each image: num_py = \" + str(num_py))\n",
    "print (\"Each image is of size: (\" + str(num_px) + \", \" + str(num_py) + \", 1)\")\n",
    "print (\"train_set_x shape: \" + str(train_set_x_orig.shape))\n",
    "print (\"train_set_y shape: \" + str(train_set_y.shape))\n",
    "print (\"test_set_x shape: \" + str(test_set_x_orig.shape))\n",
    "print (\"test_set_y shape: \" + str(test_set_y.shape))"
   ]
  },
  {
   "cell_type": "code",
   "execution_count": 8,
   "metadata": {},
   "outputs": [
    {
     "name": "stdout",
     "output_type": "stream",
     "text": [
      "y = ['Y']\n"
     ]
    },
    {
     "data": {
      "image/png": "[encoded data removed]",
      "text/plain": [
       "<Figure size 640x480 with 1 Axes>"
      ]
     },
     "metadata": {},
     "output_type": "display_data"
    }
   ],
   "source": [
    "# Example of a picture\n",
    "index = 2048            #0-208\n",
    "plt.imshow(train_set_x_orig[index], cmap=\"gray\")\n",
    "print (\"y = \" + str(train_set_y[:, index]))"
   ]
  },
  {
   "cell_type": "code",
   "execution_count": 9,
   "metadata": {},
   "outputs": [
    {
     "name": "stdout",
     "output_type": "stream",
     "text": [
      "train_set_x_flatten shape: (2728, 1200)\n",
      "train_set_y shape: (1, 2728)\n",
      "test_set_x_flatten shape: (682, 1200)\n",
      "test_set_y shape: (1, 682)\n"
     ]
    }
   ],
   "source": [
    "train_set_x_flatten = train_set_x_orig.reshape(train_set_x_orig.shape[0], -1)\n",
    "test_set_x_flatten = test_set_x_orig.reshape(test_set_x_orig.shape[0], -1)\n",
    "\n",
    "print (\"train_set_x_flatten shape: \" + str(train_set_x_flatten.shape))\n",
    "print (\"train_set_y shape: \" + str(train_set_y.shape))\n",
    "print (\"test_set_x_flatten shape: \" + str(test_set_x_flatten.shape))\n",
    "print (\"test_set_y shape: \" + str(test_set_y.shape))"
   ]
  },
  {
   "cell_type": "code",
   "execution_count": 10,
   "metadata": {},
   "outputs": [],
   "source": [
    "train_set_x = train_set_x_flatten / 255.\n",
    "test_set_x = test_set_x_flatten / 255."
   ]
  },
  {
   "cell_type": "code",
   "execution_count": 11,
   "metadata": {},
   "outputs": [
    {
     "name": "stderr",
     "output_type": "stream",
     "text": [
      "c:\\Users\\Bhanu Agrawal\\AppData\\Local\\Programs\\Python\\Python310\\lib\\site-packages\\sklearn\\linear_model\\_logistic.py:1247: FutureWarning: 'multi_class' was deprecated in version 1.5 and will be removed in 1.7. From then on, it will always use 'multinomial'. Leave it to its default value to avoid this warning.\n",
      "  warnings.warn(\n"
     ]
    },
    {
     "name": "stdout",
     "output_type": "stream",
     "text": [
      "Test Accuracy: 0.3152492668621701\n"
     ]
    }
   ],
   "source": [
    "model = LogisticRegression(max_iter=5000, solver='lbfgs', multi_class='multinomial')\n",
    "model.fit(train_set_x, train_set_y.ravel())\n",
    "\n",
    "\n",
    "y_pred = model.predict(test_set_x)\n",
    "accuracy = accuracy_score(test_set_y.ravel(), y_pred)\n",
    "print(\"Test Accuracy:\", accuracy)"
   ]
  },
  {
   "cell_type": "code",
   "execution_count": 12,
   "metadata": {},
   "outputs": [
    {
     "data": {
      "image/png": "[encoded data removed]",
      "text/plain": [
       "<Figure size 640x480 with 1 Axes>"
      ]
     },
     "metadata": {},
     "output_type": "display_data"
    }
   ],
   "source": [
    "# Pick a test sample index that was misclassified\n",
    "index = 105  # Change this to check different test images\n",
    "test_set_x = test_set_x_orig.reshape(test_set_x_orig.shape[0], -1).T / 255.\n",
    "# Reshape the image correctly\n",
    "image = test_set_x[:, index].reshape((img_height, img_width))  # Shape should match the resized image\n",
    "\n",
    "# Get true label and predicted label\n",
    "true_label = test_set_y[0, index]  \n",
    "predicted_label = y_pred[index]  \n",
    "\n",
    "# Plot the misclassified image\n",
    "plt.imshow(image, cmap=\"gray\")\n",
    "plt.title(f\"True: {true_label}, Predicted: {predicted_label}\")\n",
    "plt.axis(\"off\")\n",
    "plt.show()\n"
   ]
  }
 ],
 "metadata": {
  "kernelspec": {
   "display_name": "Python 3",
   "language": "python",
   "name": "python3"
  },
  "language_info": {
   "codemirror_mode": {
    "name": "ipython",
    "version": 3
   },
   "file_extension": ".py",
   "mimetype": "text/x-python",
   "name": "python",
   "nbconvert_exporter": "python",
   "pygments_lexer": "ipython3",
   "version": "3.10.6"
  }
 },
 "nbformat": 4,
 "nbformat_minor": 2
}
